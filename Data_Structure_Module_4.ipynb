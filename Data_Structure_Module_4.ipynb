{
  "nbformat": 4,
  "nbformat_minor": 0,
  "metadata": {
    "colab": {
      "provenance": []
    },
    "kernelspec": {
      "name": "python3",
      "display_name": "Python 3"
    },
    "language_info": {
      "name": "python"
    }
  },
  "cells": [
    {
      "cell_type": "markdown",
      "source": [
        "# ***Data Types and Structures Questions***\n",
        "\n",
        "\n",
        "\n",
        "# **1. What are data structures, and why are they important ?**\n",
        "\n",
        "Data structures are ways of organizing and storing data to make it easier to access, modify, and manage. They are important because they optimize the efficiency of algorithms, improving the speed and scalability of programs. Properly chosen data structures can significantly reduce time and space complexity.\n",
        "\n",
        "For example:\n",
        "- **Array**: Stores elements in a fixed-size sequential structure, allowing quick access via indices.\n",
        "- **Linked List**: Stores elements in nodes, each pointing to the next, allowing efficient insertions and deletions.\n",
        "- **Stack**: Follows a Last In, First Out (LIFO) order, useful for tasks like undo operations.\n",
        "- **Tree**: Organizes data hierarchically, enabling fast searching, insertion, and deletion (e.g., binary search trees).\n",
        "\n",
        "**Why are Data Structures Important?**\n",
        "1. **Efficiency**: They optimize the performance of algorithms by improving speed and resource usage.\n",
        "2. **Data Management**: Help manage and organize large datasets in a structured way.\n",
        "3. **Easy Access**: Enable faster data retrieval, insertion, and deletion based on the problem requirements.\n",
        "4. **Problem Solving**: Facilitate efficient solutions for complex problems, like searching, sorting, and mapping relationships.\n",
        "5. **Scalability**: Allow systems to handle large-scale applications and datasets efficiently."
      ],
      "metadata": {
        "id": "qReirggvMUDd"
      }
    },
    {
      "cell_type": "markdown",
      "source": [
        "# **2.  Explain the difference between mutable and immutable data types with examples.**\n",
        "\n",
        "**Mutable Data Types (Can be changed)**\n",
        "\n",
        "Mutable data types allow modifications after they are created. This means you can change the content of a variable without creating a new object in memory.\n",
        "\n",
        "EXAMPLES:-\n",
        "\n",
        "(a).Lists"
      ],
      "metadata": {
        "id": "x7wbq87NtO1U"
      }
    },
    {
      "cell_type": "code",
      "source": [
        "my_list = [1, 2, 3]\n",
        "my_list.append(4)  # Adding a new element\n",
        "print(my_list)  # Output: [1, 2, 3, 4]\n"
      ],
      "metadata": {
        "id": "xIGVlrQBuzZ3"
      },
      "execution_count": null,
      "outputs": []
    },
    {
      "cell_type": "markdown",
      "source": [
        "(b).Dictionaries"
      ],
      "metadata": {
        "id": "e09WtRHrvK0G"
      }
    },
    {
      "cell_type": "code",
      "source": [
        "my_dict = {\"name\": \"Alice\", \"age\": 25}\n",
        "my_dict[\"age\"] = 26  # Modifying an existing key-value pair\n",
        "print(my_dict)  # Output: {'name': 'Alice', 'age': 26}\n"
      ],
      "metadata": {
        "id": "JbrrcaEivcHY"
      },
      "execution_count": null,
      "outputs": []
    },
    {
      "cell_type": "markdown",
      "source": [
        "(c).Sets"
      ],
      "metadata": {
        "id": "nMJZwGY4veje"
      }
    },
    {
      "cell_type": "code",
      "source": [
        "my_set = {1, 2, 3}\n",
        "my_set.add(4)\n",
        "print(my_set)  # Output: {1, 2, 3, 4}\n"
      ],
      "metadata": {
        "id": "UX6ST-zpvimf"
      },
      "execution_count": null,
      "outputs": []
    },
    {
      "cell_type": "markdown",
      "source": [
        "**Immutable Data Types (Cannot be changed)**\n",
        "\n",
        "Immutable data types do not allow modifications after creation. If you try to change their value, Python creates a new object in memory instead of modifying the original one.\n",
        "\n",
        "EXAMPLES:-\n"
      ],
      "metadata": {
        "id": "YPixKedcvwlQ"
      }
    },
    {
      "cell_type": "markdown",
      "source": [
        "(a).Strings"
      ],
      "metadata": {
        "id": "QBS_e7CgwUG_"
      }
    },
    {
      "cell_type": "code",
      "source": [
        "my_str = \"hello\"\n",
        "my_str += \" world\"\n",
        "print(my_str)  # Output: \"hello world\"\n"
      ],
      "metadata": {
        "id": "Qfji5Jxnwahl"
      },
      "execution_count": null,
      "outputs": []
    },
    {
      "cell_type": "markdown",
      "source": [
        "(b).Tuples"
      ],
      "metadata": {
        "id": "bOwDIKGEwdEv"
      }
    },
    {
      "cell_type": "code",
      "source": [
        "my_tuple = (1, 2, 3)\n",
        "my_tuple[0] = 4  # This will raise an error!\n"
      ],
      "metadata": {
        "id": "8tKYesjnwk7N"
      },
      "execution_count": null,
      "outputs": []
    },
    {
      "cell_type": "markdown",
      "source": [
        "(c).Integers, Floats, and Booleans"
      ],
      "metadata": {
        "id": "8OL5v63Vwm0w"
      }
    },
    {
      "cell_type": "code",
      "source": [
        "x = 5\n",
        "x += 1  # This creates a new object, not modifying the original 5\n",
        "print(x)  # Output: 6\n"
      ],
      "metadata": {
        "id": "BJhwyuOOwrRl"
      },
      "execution_count": null,
      "outputs": []
    },
    {
      "cell_type": "markdown",
      "source": [
        "# **3.  What are the main differences between lists and tuples in Python ?**\n",
        "\n",
        "In Python, lists and tuples are both used to store multiple items in a single variable, but they have key differences in terms of mutability, performance, and usage.\n",
        "\n",
        "(a) Mutability (Can it be changed?)\n",
        "\n",
        "Lists are mutable, meaning their elements can be modified after creation.\n",
        "\n",
        "Tuples are immutable, meaning once they are created, their values cannot be changed.\n",
        "\n",
        "(b) Syntax(How are they defined?)\n",
        "\n",
        "Lists use square brackets [].\n",
        "\n",
        "Tuples use parentheses ().\n",
        "\n",
        "(c) Performance (Which is faster?)\n",
        "\n",
        "Tuples are faster than lists because they are stored in a single memory block and don’t allow modifications.\n",
        "\n",
        "Lists are slower because they require extra memory to allow changes.\n",
        "\n",
        "(d) Memory Usage\n",
        "\n",
        "Tuples take less memory because they don’t have extra overhead for modifications.\n",
        "\n",
        "Lists take more memory since they support dynamic resizing.\n",
        "\n",
        "(e) When to Use What?\n",
        "\n",
        "Use Lists when you need to modify, add, or remove elements dynamically.\n",
        "\n",
        "Use Tuples when you want to store fixed data that shouldn’t be changed (e.g., coordinates, database records, etc.).\n"
      ],
      "metadata": {
        "id": "uVS2k-Rexqcn"
      }
    },
    {
      "cell_type": "markdown",
      "source": [
        "# **4.Describe how dictionaries store data.**"
      ],
      "metadata": {
        "id": "x2BT-yEH2WTY"
      }
    },
    {
      "cell_type": "markdown",
      "source": [
        "A dictionary in Python is a built-in data structure that stores data in key-value pairs. Unlike lists and tuples, which use indexes to access elements, dictionaries use keys, making data retrieval very fast.\n",
        "Python dictionaries use a hash table under the hood. This allows for fast lookups, insertions, and deletions in constant time, on average (O(1)).\n",
        "\n",
        "(A).Keys are hashed → When you add a key-value pair, Python converts the key into a hash value (a unique numeric representation) using a hashing function.\n",
        "\n",
        "(B).Hash values determine index → The hash value determines where the data is stored in memory.\n",
        "\n",
        "(C).Collisions are handled → If two keys produce the same hash (which is rare but possible), Python handles it using techniques like open addressing or separate chaining.\n",
        "\n"
      ],
      "metadata": {
        "id": "IwP8CaV15XPs"
      }
    },
    {
      "cell_type": "markdown",
      "source": [
        "# **5.Why might you use a set instead of a list in Python ?**"
      ],
      "metadata": {
        "id": "yKT1BsKG6Hs-"
      }
    },
    {
      "cell_type": "markdown",
      "source": [
        "In Python, both sets and lists store multiple items, but they work differently. There are specific cases where using a set is better than using a list.\n",
        "\n",
        "(a) Sets Automatically Remove Duplicates\n",
        "\n",
        "If you need a collection of unique items, a set is the best choice because it automatically removes duplicates.\n",
        "\n",
        "(b) 2. Sets Are Faster for Lookups (O(1) vs O(n))\n",
        "\n",
        "If you need to check if an item exists frequently, sets are much faster than lists.\n",
        "\n",
        "(c) 3. Sets Support Efficient Mathematical Operations\n",
        "\n",
        "If you need to do set operations like unions, intersections, or differences, sets are much better than lists.\n",
        "\n",
        "(d) 4. Sets Use Less Memory\n",
        "Since sets don’t store duplicates and use hashing, they generally take up less memory than lists with the same data.\n"
      ],
      "metadata": {
        "id": "2l7awqlF6bbD"
      }
    },
    {
      "cell_type": "markdown",
      "source": [
        "# 6. ** What is a string in Python, and how is it different from a list ?**"
      ],
      "metadata": {
        "id": "rnX3O4zU80On"
      }
    },
    {
      "cell_type": "markdown",
      "source": [
        "A string in Python is a sequence of characters enclosed in quotes. It can contain letters, numbers, spaces, and symbols. Strings are used to represent text in Python."
      ],
      "metadata": {
        "id": "hjK--pWn-04D"
      }
    },
    {
      "cell_type": "markdown",
      "source": [
        "How is a String Different from a List ?\n",
        "\n",
        "Even though both strings and lists are sequences (meaning they both store a collection of items), they have important differences:\n",
        "\n",
        "(a). Strings Store Characters, Lists Store Any Data Type\n",
        "\n",
        "A string is a sequence of characters.\n",
        "\n",
        "A list can store any data type (numbers, strings, other lists, etc.).\n",
        "\n",
        "(b). Strings Are Immutable,Lists Are Mutable\n",
        "\n",
        " Strings are immutable, meaning you cannot change individual characters after creation.\n",
        "\n",
        " Lists are mutable, meaning you can modify elements.\n",
        "\n",
        "(c). String Operations vs. List Operations\n",
        "\n",
        " Strings support text-based operations like concatenation (+) and splitting (split()).\n",
        "\n",
        " Lists allow element-based operations like appending (append()), removing (remove()), and sorting (sort()).\n"
      ],
      "metadata": {
        "id": "EWdOwWxTANh9"
      }
    },
    {
      "cell_type": "markdown",
      "source": [
        "# 7. **How do tuples ensure data integrity in Python ?**"
      ],
      "metadata": {
        "id": "QfRmVhGhHOuT"
      }
    },
    {
      "cell_type": "markdown",
      "source": [
        "Tuples ensure data integrity in Python through their immutability, meaning once they are created, their elements cannot be modified, added, or removed. This prevents accidental changes, ensuring that critical data remains consistent throughout the program. Since tuples are hashable, they can be used as dictionary keys, maintaining stable key-value relationships. Their fixed structure also makes them safer in multi-threaded applications, as multiple threads can access them without the risk of modification. This immutability and stability make tuples a reliable choice for preserving essential information without unintended alterations."
      ],
      "metadata": {
        "id": "FZLxqodHfImK"
      }
    },
    {
      "cell_type": "markdown",
      "source": [
        "# ** 8.What is a hash table, and how does it relate to dictionaries in Python ?**"
      ],
      "metadata": {
        "id": "0-mLWyvzfbTw"
      }
    },
    {
      "cell_type": "markdown",
      "source": [
        "A **hash table** is like a smart way to store and find things quickly. Imagine you have a huge set of lockers, and instead of searching for your stuff one by one, you have a special code that tells you exactly which locker to open. That’s pretty much how a hash table works—it takes a **key** (like a name or an ID), runs it through a special formula (a **hash function**), and instantly knows where to find the matching value.  \n",
        "\n",
        "In Python, **dictionaries** use hash tables behind the scenes. When you store something in a dictionary, Python remembers where it put it using hashing, so when you need it later, it can grab it super fast without searching through everything. This is why looking up values in a dictionary is much quicker than searching through a list. But since the system depends on keys staying the same, only things like numbers, strings, and tuples can be used as dictionary keys—they won’t change and mess up the whole system."
      ],
      "metadata": {
        "id": "lLj22VOzgWYw"
      }
    },
    {
      "cell_type": "markdown",
      "source": [
        "# **9.Can lists contain different data types in Python ?**"
      ],
      "metadata": {
        "id": "u5ZYOVDFgs6_"
      }
    },
    {
      "cell_type": "markdown",
      "source": [
        "Yes, in Python, lists can contain different data types. Unlike some programming languages that require all elements in a list to be the same type, Python allows you to mix integers, strings, floats, booleans, other lists, dictionaries, and even functions within the same list."
      ],
      "metadata": {
        "id": "6JDpLIGDiR8d"
      }
    },
    {
      "cell_type": "markdown",
      "source": [
        "For example, a single list can have:"
      ],
      "metadata": {
        "id": "_fn5tKT8iYZu"
      }
    },
    {
      "cell_type": "code",
      "source": [
        "mixed_list = [42, \"hello\", 3.14, True, [1, 2, 3], {\"key\": \"value\"}]\n",
        "print(mixed_list)\n",
        "# Output: [42, 'hello', 3.14, True, [1, 2, 3], {'key': 'value'}]\n"
      ],
      "metadata": {
        "id": "yDPOBY8kiZaF"
      },
      "execution_count": null,
      "outputs": []
    },
    {
      "cell_type": "markdown",
      "source": [
        "# **10. Explain why strings are immutable in Python ?**"
      ],
      "metadata": {
        "id": "C7Y9dVGvidA9"
      }
    },
    {
      "cell_type": "markdown",
      "source": [
        "Strings are **immutable** in Python, meaning they **cannot be changed** after they are created. This is because Python stores strings in memory efficiently and reuses them whenever possible, which helps with performance and memory optimization.  \n",
        "\n",
        "One key reason for immutability is **security and reliability**—since strings are often used as keys in dictionaries and in multi-threaded applications, keeping them unchanged ensures data consistency and prevents unintended modifications.  \n",
        "\n",
        "Another reason is **memory efficiency**—Python uses a technique called **string interning**, where it reuses immutable string objects to save space. If strings were mutable, modifying one would affect all references to it, leading to unpredictable behavior.  \n",
        "\n",
        "Instead of modifying a string directly, Python creates a **new string** whenever you try to change it. This design choice makes strings safer and more efficient to use in programs."
      ],
      "metadata": {
        "id": "Ud8jloRii1MW"
      }
    },
    {
      "cell_type": "markdown",
      "source": [
        "# **11.  What advantages do dictionaries offer over lists for certain tasks ?**"
      ],
      "metadata": {
        "id": "PeFmczTdi8IM"
      }
    },
    {
      "cell_type": "markdown",
      "source": [
        "Dictionaries offer several advantages over lists for certain tasks, mainly due to their **key-value** structure and the way they store and retrieve data efficiently.  \n",
        "\n",
        "1. **Fast Lookups** – Dictionaries use **hashing**, which allows them to retrieve values instantly (`O(1)` time complexity on average), whereas lists require searching through elements (`O(n)` time complexity in worst cases). This makes dictionaries much faster when looking up specific data.  \n",
        "\n",
        "2. **Meaningful Organization** – Data in dictionaries is stored using **keys**, making it more intuitive and structured compared to lists, which use numerical indexing. This is especially useful when working with real-world data like user records or settings.  \n",
        "\n",
        "3. **No Need for Manual Searching** – With lists, you often have to loop through the entire structure to find what you need. Dictionaries eliminate this by allowing direct access to values using keys.  \n",
        "\n",
        "4. **Efficient Updates and Deletions** – Adding or removing elements in a dictionary is faster than modifying a list because dictionary operations don’t require shifting elements around.  \n",
        "\n",
        "5. **Uniqueness of Keys** – Dictionaries automatically prevent duplicate keys, ensuring that each piece of data has a unique identifier, which is useful when managing structured information.  \n"
      ],
      "metadata": {
        "id": "dNqf1SpLjO1s"
      }
    },
    {
      "cell_type": "markdown",
      "source": [
        "# **12. Describe a scenario where using a tuple would be preferable over a list.**"
      ],
      "metadata": {
        "id": "q6B5HuN1kkXl"
      }
    },
    {
      "cell_type": "markdown",
      "source": [
        "A **tuple** would be preferable over a **list** in situations where data should remain **unchanged**. One example is storing **database records**—for instance, a student’s information like **(ID, name, date of birth)** should not be modified accidentally. Since tuples are **immutable**, they prevent unintended changes, ensuring data integrity.  \n",
        "\n",
        "Another scenario is using tuples as **dictionary keys**. Because dictionary keys must be immutable, tuples work perfectly for storing **coordinate pairs, chessboard positions, or multi-field identifiers**, whereas lists cannot be used.  \n",
        "\n",
        "Tuples are also useful when returning **multiple values from a function**, ensuring the returned data remains unchanged and predictable. This prevents accidental modifications that could lead to unexpected behavior in the program."
      ],
      "metadata": {
        "id": "UQisBokPkv0t"
      }
    },
    {
      "cell_type": "markdown",
      "source": [
        "# **13. How do sets handle duplicate values in Python ?**"
      ],
      "metadata": {
        "id": "63sIEu8mlS4k"
      }
    },
    {
      "cell_type": "markdown",
      "source": [
        "Sets in Python **automatically remove duplicate values** when storing elements. Unlike lists, which allow repeated items, sets are designed to hold only **unique values**. If you try to add a duplicate to a set, Python simply ignores it without causing an error.  \n",
        "\n",
        "This is because sets use a **hash table** internally, which ensures that each value is stored only once. When adding elements, Python checks the hash value of each item, and if the value already exists, it doesn’t get added again.  \n",
        "\n",
        "This makes sets useful for tasks like **removing duplicates from a list, checking for unique values, and performing fast membership tests**, since set lookups are much faster than searching through a list."
      ],
      "metadata": {
        "id": "WhSkPnfFlr53"
      }
    },
    {
      "cell_type": "markdown",
      "source": [
        "# **14. How does the “in” keyword work differently for lists and dictionaries ?**"
      ],
      "metadata": {
        "id": "COgydMh7mBCA"
      }
    },
    {
      "cell_type": "markdown",
      "source": [
        "The **`in`** keyword works differently for **lists** and **dictionaries** because of how they store and retrieve data.  \n",
        "\n",
        "For **lists**, `in` checks if a value exists by scanning through each element **one by one**. This process, called **linear search**, means that as the list grows, the time taken to find an item increases.  \n",
        "\n",
        "For **dictionaries**, `in` checks if a **key** exists, not the values. Since dictionaries use a **hash table**, they can find keys almost instantly, making lookups much faster than in lists. However, checking if a value exists in a dictionary requires an additional step.  \n",
        "\n",
        "In short, searching in lists takes **more time** as the list gets larger, while searching in dictionaries is **much faster** because of their efficient hashing system."
      ],
      "metadata": {
        "id": "Bivb13nUnD_9"
      }
    },
    {
      "cell_type": "markdown",
      "source": [
        "# **15. Can you modify the elements of a tuple? Explain why or why not.**"
      ],
      "metadata": {
        "id": "cKcEOQW5nOYF"
      }
    },
    {
      "cell_type": "markdown",
      "source": [
        "No, you **cannot** modify the elements of a tuple because tuples in Python are **immutable**. This means that once a tuple is created, its elements **cannot be changed, added, or removed**.  \n",
        "\n",
        "The main reason for this immutability is that Python **optimizes tuples for performance and memory efficiency**. Since their values cannot change, tuples are more stable and can be stored in a way that makes them faster to access compared to lists.  \n",
        "\n",
        "This immutability also helps prevent accidental modifications, which is useful when storing **fixed data** like coordinates, database records, or settings that should remain unchanged throughout a program."
      ],
      "metadata": {
        "id": "Gozt5HcEnVWN"
      }
    },
    {
      "cell_type": "markdown",
      "source": [
        "# **16. What is a nested dictionary, and give an example of its use case ?**"
      ],
      "metadata": {
        "id": "FhoTFKdQoSin"
      }
    },
    {
      "cell_type": "markdown",
      "source": [
        "A nested dictionary is a dictionary that contains another dictionary as a value. This allows you to store complex, structured data in a hierarchical way.\n",
        "\n",
        "Use Case: Storing Student Records\n",
        "A nested dictionary is useful when managing data that has multiple levels, such as storing information about students, where each student has details like age, grades, and contact information.\n",
        "\n",
        "Example:-"
      ],
      "metadata": {
        "id": "Xbnmgzlwoasc"
      }
    },
    {
      "cell_type": "code",
      "source": [
        "students = {\n",
        "    \"Alice\": {\"age\": 25, \"grades\": {\"math\": 90, \"science\": 85}, \"email\": \"alice@example.com\"},\n",
        "    \"Bob\": {\"age\": 22, \"grades\": {\"math\": 78, \"science\": 88}, \"email\": \"bob@example.com\"}\n",
        "}\n",
        "\n",
        "# Access Bob's Science grade\n",
        "print(students[\"Bob\"][\"grades\"][\"science\"])\n",
        "# Output: 88\n"
      ],
      "metadata": {
        "id": "EzSDAoCyo7fU"
      },
      "execution_count": null,
      "outputs": []
    },
    {
      "cell_type": "markdown",
      "source": [
        "# **17.  Describe the time complexity of accessing elements in a dictionary.**"
      ],
      "metadata": {
        "id": "7J_6jsfEpR2r"
      }
    },
    {
      "cell_type": "markdown",
      "source": [
        "Accessing elements in a dictionary is very fast because Python uses a hash table to store key-value pairs.\n",
        "\n",
        "Time Complexity of Dictionary Lookup\n",
        "Average Case: O(1) (Constant Time)\n",
        "In most cases, accessing a dictionary key is instantaneous because Python calculates a hash for the key and directly retrieves the corresponding value. The size of the dictionary does not affect the lookup time.\n",
        "\n",
        "Worst Case: O(n) (Linear Time)\n",
        "In rare cases, if multiple keys produce the same hash (causing a hash collision), Python may need to search through a small group of keys, making the lookup slightly slower. However, Python has efficient ways of handling collisions, so this is uncommon."
      ],
      "metadata": {
        "id": "Gk6_HDrjqoF5"
      }
    },
    {
      "cell_type": "markdown",
      "source": [
        "# **18. In what situations are lists preferred over dictionaries ?**"
      ],
      "metadata": {
        "id": "VW043jCms7u8"
      }
    },
    {
      "cell_type": "markdown",
      "source": [
        "Lists are preferred over dictionaries in situations where order matters, sequential access is needed, or when working with simple collections of data without the need for key-value pairs.\n",
        "\n",
        "**When to Use Lists Instead of Dictionaries**\n",
        "\n",
        "Maintaining Order – Lists preserve the order of elements, making them ideal for scenarios where the sequence of data is important, such as storing ordered datasets or processing elements one by one.\n",
        "\n",
        "Index-Based Access – If elements are accessed by their position rather than a unique key, lists are more straightforward and memory-efficient than dictionaries.\n",
        "\n",
        "Iterating Over Data – Lists are optimized for looping through elements efficiently, making them a better choice for operations like searching, sorting, and filtering.\n",
        "\n",
        "Storing Simple Data – When working with a collection of similar values (e.g., a list of names, numbers, or objects), a list is simpler and more intuitive than a dictionary.\n",
        "\n",
        "Smaller Memory Overhead – Since dictionaries store keys along with values and use hashing, they consume more memory than lists. If memory efficiency is a concern, lists can be a better choice.\n",
        "\n"
      ],
      "metadata": {
        "id": "LbLQIczytTYH"
      }
    },
    {
      "cell_type": "markdown",
      "source": [
        "# **19. Why are dictionaries considered unordered, and how does that affect data retrieval ?**"
      ],
      "metadata": {
        "id": "ubJn9KFSu20T"
      }
    },
    {
      "cell_type": "markdown",
      "source": [
        "Dictionaries are considered unordered because, historically, they did not maintain the insertion order of elements. However, starting from Python 3.7 (officially guaranteed in Python 3.8+), dictionaries do preserve insertion order, meaning that items are stored and retrieved in the same order they were added.\n",
        "\n",
        "**Why Were Dictionaries Originally Unordered?**\n",
        "\n",
        "Dictionaries use a hash table internally, which organizes data based on hash values rather than a fixed sequence. Since hash values depend on factors like memory allocation and resizing, the order of elements was previously unpredictable.\n",
        "\n",
        "**How Does This Affect Data Retrieval?**\n",
        "\n",
        "No Indexed Positioning – Unlike lists, where elements are accessed by index (list[0], list[1]), dictionary elements are accessed by keys, not positions.\n",
        "\n",
        "Fast Key-Based Lookups – Even though insertion order is maintained in modern Python, retrieving elements is still done using keys (dict[key]), making access very efficient (O(1)).\n",
        "\n",
        "Order Preservation (Python 3.7+) – While earlier versions didn’t guarantee order, newer versions ensure that iterating over a dictionary follows the order in which keys were added."
      ],
      "metadata": {
        "id": "Qog_oCCtvBok"
      }
    },
    {
      "cell_type": "markdown",
      "source": [
        "# **20. The key difference between lists and dictionaries in terms of data retrieval is how elements are accessed and the speed of lookups.**\n",
        "\n",
        "Lists retrieve data using index-based access (list[0], list[1]). This makes accessing elements by position very fast (O(1)). However, searching for a specific value requires scanning the entire list (O(n)), which can be slow for large lists.\n",
        "\n",
        "Dictionaries retrieve data using key-based access (dict[\"key\"]). Since dictionaries use a hash table, lookups are almost instant (O(1)) regardless of size. Unlike lists, dictionaries do not have numerical indexing, so elements cannot be retrieved by position."
      ],
      "metadata": {
        "id": "llIACr7Jwykx"
      }
    },
    {
      "cell_type": "markdown",
      "source": [
        "# *** Practical Questions***"
      ],
      "metadata": {
        "id": "pz0IYwdVy3lG"
      }
    },
    {
      "cell_type": "markdown",
      "source": [
        "1. Write a code to create a string with your name and print it."
      ],
      "metadata": {
        "id": "LWNRK6OWzWFt"
      }
    },
    {
      "cell_type": "code",
      "source": [
        "name = \"Ashish\"\n",
        "print(name)\n"
      ],
      "metadata": {
        "colab": {
          "base_uri": "https://localhost:8080/"
        },
        "id": "5o6-sHntze7U",
        "outputId": "caf1dbae-7f3e-472d-9d7a-d3643bdc19b2"
      },
      "execution_count": 1,
      "outputs": [
        {
          "output_type": "stream",
          "name": "stdout",
          "text": [
            "Ashish\n"
          ]
        }
      ]
    },
    {
      "cell_type": "markdown",
      "source": [
        "2. Write a code to find the length of the string \"Hello World\""
      ],
      "metadata": {
        "id": "aQ_Ci2QUzj9s"
      }
    },
    {
      "cell_type": "code",
      "source": [
        "text = \"Hello World\"\n",
        "length = len(text)\n",
        "print(length)\n"
      ],
      "metadata": {
        "id": "ldp_n4eEz4l2"
      },
      "execution_count": null,
      "outputs": []
    },
    {
      "cell_type": "markdown",
      "source": [
        "Output: 11"
      ],
      "metadata": {
        "id": "bg7X4WV302P0"
      }
    },
    {
      "cell_type": "markdown",
      "source": [
        "3.  Write a code to slice the first 3 characters from the string \"Python Programming\""
      ],
      "metadata": {
        "id": "Tu3v9DzI0IzM"
      }
    },
    {
      "cell_type": "code",
      "source": [
        "text = \"Python Programming\"\n",
        "sliced_text = text[:3]  # Extracts characters from index 0 to 2\n",
        "print(sliced_text)\n"
      ],
      "metadata": {
        "id": "_0OINg720hjk"
      },
      "execution_count": null,
      "outputs": []
    },
    {
      "cell_type": "markdown",
      "source": [
        "Output: pyt"
      ],
      "metadata": {
        "id": "go-sO7E805z7"
      }
    },
    {
      "cell_type": "markdown",
      "source": [
        "4. Write a code to convert the string \"hello\" to uppercase."
      ],
      "metadata": {
        "id": "jugvN_x40n8r"
      }
    },
    {
      "cell_type": "code",
      "source": [
        "text = \"hello\"\n",
        "uppercase_text = text.upper()\n",
        "print(uppercase_text)\n"
      ],
      "metadata": {
        "id": "f_tVLtym1C6K"
      },
      "execution_count": null,
      "outputs": []
    },
    {
      "cell_type": "markdown",
      "source": [
        "Output: HELLO"
      ],
      "metadata": {
        "id": "m48O_y-z1K50"
      }
    },
    {
      "cell_type": "markdown",
      "source": [
        "5. Write a code to replace the word \"apple\" with \"orange\" in the string \"I like apple\"."
      ],
      "metadata": {
        "id": "sEBSXUep1Qvr"
      }
    },
    {
      "cell_type": "code",
      "source": [
        "text = \"I like apple\"\n",
        "new_text = text.replace(\"apple\", \"orange\")\n",
        "print(new_text)\n"
      ],
      "metadata": {
        "id": "Uyekc0At1Vu7"
      },
      "execution_count": null,
      "outputs": []
    },
    {
      "cell_type": "markdown",
      "source": [
        "Output: I like orange"
      ],
      "metadata": {
        "id": "0-WEw1wX1hW7"
      }
    },
    {
      "cell_type": "markdown",
      "source": [
        "6.  Write a code to create a list with numbers 1 to 5 and print it."
      ],
      "metadata": {
        "id": "yuATMK9Z1l9K"
      }
    },
    {
      "cell_type": "code",
      "source": [
        "numbers = [1, 2, 3, 4, 5]\n",
        "print(numbers)\n"
      ],
      "metadata": {
        "id": "nP8DEMEr16eq"
      },
      "execution_count": null,
      "outputs": []
    },
    {
      "cell_type": "markdown",
      "source": [
        "Output: [1, 2, 3, 4, 5]"
      ],
      "metadata": {
        "id": "HmX1bbkg1-q6"
      }
    },
    {
      "cell_type": "markdown",
      "source": [
        "7. Write a code to append the number 10 to the list [1, 2, 3, 4]."
      ],
      "metadata": {
        "id": "lMRlxU9K2CfS"
      }
    },
    {
      "cell_type": "code",
      "source": [
        "numbers = [1, 2, 3, 4]\n",
        "numbers.append(10)\n",
        "print(numbers)\n"
      ],
      "metadata": {
        "id": "9zvnvad82JP5"
      },
      "execution_count": null,
      "outputs": []
    },
    {
      "cell_type": "markdown",
      "source": [
        "Output: [1, 2, 3, 4, 10]"
      ],
      "metadata": {
        "id": "6ZCY6GmT2N7Z"
      }
    },
    {
      "cell_type": "markdown",
      "source": [
        "8. Write a code to remove the number 3 from the list [1, 2, 3, 4, 5]."
      ],
      "metadata": {
        "id": "NioOjeuN2S5L"
      }
    },
    {
      "cell_type": "code",
      "source": [
        "numbers = [1, 2, 3, 4, 5]\n",
        "numbers.remove(3)\n",
        "print(numbers)\n"
      ],
      "metadata": {
        "id": "1q-CNIUk2WxJ"
      },
      "execution_count": null,
      "outputs": []
    },
    {
      "cell_type": "markdown",
      "source": [
        "Output: [1, 2, 4, 5]"
      ],
      "metadata": {
        "id": "P2oGhy_Q2ags"
      }
    },
    {
      "cell_type": "markdown",
      "source": [
        "9. Write a code to access the second element in the list ['a', 'b', 'c', 'd']."
      ],
      "metadata": {
        "id": "_TJKmt6-2geR"
      }
    },
    {
      "cell_type": "code",
      "source": [
        "letters = ['a', 'b', 'c', 'd']\n",
        "second_element = letters[1]  # Indexing starts from 0, so 'b' is at index 1\n",
        "print(second_element)\n"
      ],
      "metadata": {
        "id": "r3M1L6VY2j7S"
      },
      "execution_count": null,
      "outputs": []
    },
    {
      "cell_type": "markdown",
      "source": [
        "Output: b"
      ],
      "metadata": {
        "id": "EWHT0DlE2pIx"
      }
    },
    {
      "cell_type": "markdown",
      "source": [
        "10. Write a code to reverse the list [10, 20, 30, 40, 50]."
      ],
      "metadata": {
        "id": "WZbJr0L42uPp"
      }
    },
    {
      "cell_type": "code",
      "source": [
        "numbers = [10, 20, 30, 40, 50]\n",
        "numbers.reverse()\n",
        "print(numbers)\n"
      ],
      "metadata": {
        "id": "L_JGRRMC20BJ"
      },
      "execution_count": null,
      "outputs": []
    },
    {
      "cell_type": "markdown",
      "source": [
        "Output:[50, 40, 30, 20, 10]"
      ],
      "metadata": {
        "id": "RhbS3DWT3y58"
      }
    },
    {
      "cell_type": "markdown",
      "source": [
        "11. Write a code to create a tuple with the elements 100, 200, 300 and print it."
      ],
      "metadata": {
        "id": "uJrej8kE3_jp"
      }
    },
    {
      "cell_type": "code",
      "source": [
        "numbers = (100, 200, 300)\n",
        "print(numbers)\n"
      ],
      "metadata": {
        "id": "poRtxTpb4JNw"
      },
      "execution_count": null,
      "outputs": []
    },
    {
      "cell_type": "markdown",
      "source": [
        "Output: (100, 200, 300)"
      ],
      "metadata": {
        "id": "569ppKy_4Y46"
      }
    },
    {
      "cell_type": "markdown",
      "source": [
        " 12. Write a code to access the second-to-last element of the tuple ('red', 'green', 'blue', 'yellow')."
      ],
      "metadata": {
        "id": "B6SA8Kti4bvB"
      }
    },
    {
      "cell_type": "code",
      "source": [
        "colors = ('red', 'green', 'blue', 'yellow')\n",
        "second_to_last = colors[-2]  # -1 is 'yellow', so -2 is 'blue'\n",
        "print(second_to_last)\n"
      ],
      "metadata": {
        "id": "EgW-FBLW4gJz"
      },
      "execution_count": null,
      "outputs": []
    },
    {
      "cell_type": "markdown",
      "source": [
        "Output: blue"
      ],
      "metadata": {
        "id": "cWdULLvy5Ady"
      }
    },
    {
      "cell_type": "markdown",
      "source": [
        "13. Write a code to find the minimum number in the tuple (10, 20, 5, 15)."
      ],
      "metadata": {
        "id": "ENB4HSCo5D-2"
      }
    },
    {
      "cell_type": "code",
      "source": [
        "numbers = (10, 20, 5, 15)\n",
        "min_number = min(numbers)\n",
        "print(min_number)\n"
      ],
      "metadata": {
        "id": "lsBCtW665H3p"
      },
      "execution_count": null,
      "outputs": []
    },
    {
      "cell_type": "markdown",
      "source": [
        "Output: 5"
      ],
      "metadata": {
        "id": "4z0lJ7ci5MPk"
      }
    },
    {
      "cell_type": "markdown",
      "source": [
        " 14. Write a code to find the index of the element \"cat\" in the tuple ('dog', 'cat', 'rabbit')."
      ],
      "metadata": {
        "id": "6f32LOl55Ote"
      }
    },
    {
      "cell_type": "code",
      "source": [
        "animals = ('dog', 'cat', 'rabbit')\n",
        "index_of_cat = animals.index('cat')\n",
        "print(index_of_cat)\n"
      ],
      "metadata": {
        "id": "Ka9u-Yw05Run"
      },
      "execution_count": null,
      "outputs": []
    },
    {
      "cell_type": "markdown",
      "source": [
        "Output: 1"
      ],
      "metadata": {
        "id": "4HoxZeBO5aYC"
      }
    },
    {
      "cell_type": "markdown",
      "source": [
        " 15. Write a code to create a tuple containing three different fruits and check if \"kiwi\" is in it."
      ],
      "metadata": {
        "id": "NOr-WCS35cr_"
      }
    },
    {
      "cell_type": "code",
      "source": [
        "fruits = (\"apple\", \"banana\", \"orange\")\n",
        "if \"kiwi\" in fruits:\n",
        "    print(\"Kiwi is in the tuple\")\n",
        "else:\n",
        "    print(\"Kiwi is not in the tuple\")\n"
      ],
      "metadata": {
        "id": "XtMc4Bi95gVB"
      },
      "execution_count": null,
      "outputs": []
    },
    {
      "cell_type": "markdown",
      "source": [
        "Output: Kiwi is not in the tuple"
      ],
      "metadata": {
        "id": "LjW0o5dv5v37"
      }
    },
    {
      "cell_type": "markdown",
      "source": [
        "16. Write a code to create a set with the elements 'a', 'b', 'c' and print it."
      ],
      "metadata": {
        "id": "ODBPuPP05z3v"
      }
    },
    {
      "cell_type": "code",
      "source": [
        "letters = {'a', 'b', 'c'}\n",
        "print(letters)\n"
      ],
      "metadata": {
        "id": "ZWWGSa_p52VQ"
      },
      "execution_count": null,
      "outputs": []
    },
    {
      "cell_type": "markdown",
      "source": [
        "Output: {'a', 'b', 'c'}"
      ],
      "metadata": {
        "id": "nXPomJKt6ALC"
      }
    },
    {
      "cell_type": "markdown",
      "source": [
        "17. Write a code to clear all elements from the set {1, 2, 3, 4, 5}."
      ],
      "metadata": {
        "id": "U0WV7xan6D6-"
      }
    },
    {
      "cell_type": "code",
      "source": [
        "numbers = {1, 2, 3, 4, 5}\n",
        "numbers.clear()\n",
        "print(numbers)\n"
      ],
      "metadata": {
        "id": "Xa7g212K6Hyu"
      },
      "execution_count": null,
      "outputs": []
    },
    {
      "cell_type": "markdown",
      "source": [
        "Output: set()"
      ],
      "metadata": {
        "id": "aWnbzbPx6Nd_"
      }
    },
    {
      "cell_type": "markdown",
      "source": [
        "18. Write a code to remove the element 4 from the set {1, 2, 3, 4}."
      ],
      "metadata": {
        "id": "FOtBTEOQ6SDk"
      }
    },
    {
      "cell_type": "code",
      "source": [
        "numbers = {1, 2, 3, 4}\n",
        "numbers.remove(4)\n",
        "print(numbers)\n"
      ],
      "metadata": {
        "id": "w2-_t3_16Ztl"
      },
      "execution_count": null,
      "outputs": []
    },
    {
      "cell_type": "markdown",
      "source": [
        "Output: {1, 2, 3}\n"
      ],
      "metadata": {
        "id": "_-a2Pr756f3m"
      }
    },
    {
      "cell_type": "markdown",
      "source": [
        " 19. Write a code to find the union of two sets {1, 2, 3} and {3, 4, 5}."
      ],
      "metadata": {
        "id": "UplTSK2E6itU"
      }
    },
    {
      "cell_type": "code",
      "source": [
        "set1 = {1, 2, 3}\n",
        "set2 = {3, 4, 5}\n",
        "\n",
        "# Using union() method\n",
        "union_set = set1.union(set2)\n",
        "\n",
        "# Using | operator\n",
        "# union_set = set1 | set2\n",
        "\n",
        "print(union_set)\n"
      ],
      "metadata": {
        "id": "uNhQMQE36lo0"
      },
      "execution_count": null,
      "outputs": []
    },
    {
      "cell_type": "markdown",
      "source": [
        "Output: {1, 2, 3, 4, 5}\n"
      ],
      "metadata": {
        "id": "Puskg1zH6swk"
      }
    },
    {
      "cell_type": "markdown",
      "source": [
        " 20. Write a code to find the intersection of two sets {1, 2, 3} and {2, 3, 4}."
      ],
      "metadata": {
        "id": "PGju11Kg6ye0"
      }
    },
    {
      "cell_type": "code",
      "source": [
        "set1 = {1, 2, 3}\n",
        "set2 = {2, 3, 4}\n",
        "\n",
        "# Using intersection() method\n",
        "intersection_set = set1.intersection(set2)\n",
        "\n",
        "# Using & operator\n",
        "# intersection_set = set1 & set2\n",
        "\n",
        "print(intersection_set)\n"
      ],
      "metadata": {
        "id": "V4LcwQsD61uM"
      },
      "execution_count": null,
      "outputs": []
    },
    {
      "cell_type": "markdown",
      "source": [
        "Output: {2, 3}\n"
      ],
      "metadata": {
        "id": "b79mUUUM69qk"
      }
    },
    {
      "cell_type": "markdown",
      "source": [
        "21. Write a code to create a dictionary with the keys \"name\", \"age\", and \"city\", and print it."
      ],
      "metadata": {
        "id": "PNSCNL3p7CQE"
      }
    },
    {
      "cell_type": "code",
      "source": [
        "person = {\n",
        "    \"name\": \"Ashish\",\n",
        "    \"age\": 22,\n",
        "    \"city\": \"Noida\"\n",
        "}\n",
        "\n",
        "print(person)\n"
      ],
      "metadata": {
        "id": "nCaVOQqr7UkE"
      },
      "execution_count": null,
      "outputs": []
    },
    {
      "cell_type": "markdown",
      "source": [
        "Output: {'name': 'Ashish', 'age': 22, 'city': 'Noida'}\n"
      ],
      "metadata": {
        "id": "M7mO3EmI7j_z"
      }
    },
    {
      "cell_type": "markdown",
      "source": [
        " 22. Write a code to add a new key-value pair \"country\": \"USA\" to the dictionary {'name': 'John', 'age': 25}."
      ],
      "metadata": {
        "id": "Q2z9dFuP7r6U"
      }
    },
    {
      "cell_type": "code",
      "source": [
        "person = {'name': 'John', 'age': 25}\n",
        "\n",
        "# Adding a new key-value pair\n",
        "person['country'] = 'USA'\n",
        "\n",
        "print(person)\n"
      ],
      "metadata": {
        "id": "pDMKtamJ74gs"
      },
      "execution_count": null,
      "outputs": []
    },
    {
      "cell_type": "markdown",
      "source": [
        "Output: {'name': 'John', 'age': 25, 'country': 'USA'}\n"
      ],
      "metadata": {
        "id": "yBa8PR7h79JL"
      }
    },
    {
      "cell_type": "markdown",
      "source": [
        "23. Write a code to access the value associated with the key \"name\" in the dictionary {'name': 'Alice', 'age': 30}."
      ],
      "metadata": {
        "id": "YieqB4iv8AhD"
      }
    },
    {
      "cell_type": "code",
      "source": [
        "person = {'name': 'Alice', 'age': 30}\n",
        "\n",
        "# Accessing the value of \"name\"\n",
        "name_value = person['name']\n",
        "\n",
        "print(name_value)\n"
      ],
      "metadata": {
        "id": "4OE3NLov8EO2"
      },
      "execution_count": null,
      "outputs": []
    },
    {
      "cell_type": "markdown",
      "source": [
        "Output: Alice\n"
      ],
      "metadata": {
        "id": "iRSBN_YW8ItM"
      }
    },
    {
      "cell_type": "markdown",
      "source": [
        "24. Write a code to remove the key \"age\" from the dictionary {'name': 'Bob', 'age': 22, 'city': 'New York'}."
      ],
      "metadata": {
        "id": "M0EcbD3Z8LsK"
      }
    },
    {
      "cell_type": "code",
      "source": [
        "person = {'name': 'Bob', 'age': 22, 'city': 'New York'}\n",
        "\n",
        "# Removing the key \"age\"\n",
        "person.pop('age')\n",
        "\n",
        "print(person)\n"
      ],
      "metadata": {
        "id": "80uKs-uz8Orr"
      },
      "execution_count": null,
      "outputs": []
    },
    {
      "cell_type": "markdown",
      "source": [
        "Output: {'name': 'Bob', 'city': 'New York'}\n"
      ],
      "metadata": {
        "id": "ij7-10w48Tny"
      }
    },
    {
      "cell_type": "markdown",
      "source": [
        "25. 25. Write a code to check if the key \"city\" exists in the dictionary {'name': 'Alice', 'city': 'Paris'}."
      ],
      "metadata": {
        "id": "ZMeQ5FBY8XWj"
      }
    },
    {
      "cell_type": "code",
      "source": [
        "person = {'name': 'Alice', 'city': 'Paris'}\n",
        "\n",
        "# Checking if \"city\" exists\n",
        "if 'city' in person:\n",
        "    print(\"Key 'city' exists in the dictionary\")\n",
        "else:\n",
        "    print(\"Key 'city' does not exist in the dictionary\")\n"
      ],
      "metadata": {
        "id": "1UROiPSQ8fsT"
      },
      "execution_count": null,
      "outputs": []
    },
    {
      "cell_type": "markdown",
      "source": [
        "Output:  Key 'city'  exists in the dictionary"
      ],
      "metadata": {
        "id": "0wXTgYd2_D1O"
      }
    },
    {
      "cell_type": "markdown",
      "source": [
        "26. Write a code to create a list, a tuple, and a dictionary, and print them all."
      ],
      "metadata": {
        "id": "9CsxVkeA_OgP"
      }
    },
    {
      "cell_type": "code",
      "source": [
        "# Creating a list\n",
        "my_list = [1, 2, 3, 4, 5]\n",
        "\n",
        "# Creating a tuple\n",
        "my_tuple = ('apple', 'banana', 'cherry')\n",
        "\n",
        "# Creating a dictionary\n",
        "my_dict = {'name': 'John', 'age': 30, 'city': 'New York'}\n",
        "\n",
        "# Printing all\n",
        "print(\"List:\", my_list)\n",
        "print(\"Tuple:\", my_tuple)\n",
        "print(\"Dictionary:\", my_dict)\n"
      ],
      "metadata": {
        "id": "bjiJKEEuAo_d"
      },
      "execution_count": null,
      "outputs": []
    },
    {
      "cell_type": "markdown",
      "source": [
        "Output: List:\n",
        "\n",
        "[1, 2, 3, 4, 5]  \n",
        "Tuple: ('apple', 'banana', 'cherry')  \n",
        "Dictionary: {'name': 'John', 'age': 30, 'city': 'New York'}\n"
      ],
      "metadata": {
        "id": "xEatxZ0ZAt0N"
      }
    },
    {
      "cell_type": "markdown",
      "source": [
        "27. Write a code to create a list of 5 random numbers between 1 and 100, sort it in ascending order, and print the result.(replaced)"
      ],
      "metadata": {
        "id": "WErazl-KBCws"
      }
    },
    {
      "cell_type": "code",
      "source": [
        "import random\n",
        "\n",
        "# Generating a list of 5 random numbers\n",
        "random_numbers = random.sample(range(1, 101), 5)\n",
        "\n",
        "# Sorting the list in ascending order\n",
        "random_numbers.sort()\n",
        "\n",
        "# Printing the result\n",
        "print(random_numbers)\n"
      ],
      "metadata": {
        "id": "66gZmouaBmi0"
      },
      "execution_count": null,
      "outputs": []
    },
    {
      "cell_type": "markdown",
      "source": [
        " Output (varies each time): [12, 34, 45, 67, 89]"
      ],
      "metadata": {
        "id": "rQ34bfDjBuzE"
      }
    },
    {
      "cell_type": "markdown",
      "source": [
        "28. Write a code to create a list with strings and print the element at the third index."
      ],
      "metadata": {
        "id": "JwlBhOR1B23s"
      }
    },
    {
      "cell_type": "code",
      "source": [
        "# Creating a list with strings\n",
        "words = [\"apple\", \"banana\", \"cherry\", \"date\", \"elderberry\"]\n",
        "\n",
        "# Accessing the element at the third index (indexing starts from 0)\n",
        "third_index_element = words[3]\n",
        "\n",
        "# Printing the result\n",
        "print(third_index_element)\n"
      ],
      "metadata": {
        "id": "rtXzz2pRCrRs"
      },
      "execution_count": null,
      "outputs": []
    },
    {
      "cell_type": "markdown",
      "source": [
        "Output: date"
      ],
      "metadata": {
        "id": "MOdO_-2CCzZD"
      }
    },
    {
      "cell_type": "markdown",
      "source": [
        "29. Write a code to combine two dictionaries into one and print the result."
      ],
      "metadata": {
        "id": "YlB039uFC3j7"
      }
    },
    {
      "cell_type": "code",
      "source": [
        "dict1 = {'a': 1, 'b': 2}\n",
        "dict2 = {'c': 3, 'd': 4}\n",
        "\n",
        "# Combining dictionaries\n",
        "dict1.update(dict2)\n",
        "\n",
        "# Printing the result\n",
        "print(dict1)\n"
      ],
      "metadata": {
        "id": "BjRzHvYZDr-y"
      },
      "execution_count": null,
      "outputs": []
    },
    {
      "cell_type": "markdown",
      "source": [
        "Output: {'a': 1, 'b': 2, 'c': 3, 'd': 4}\n"
      ],
      "metadata": {
        "id": "or4wXOYtEQbu"
      }
    },
    {
      "cell_type": "markdown",
      "source": [
        " 30. Write a code to convert a list of strings into a set."
      ],
      "metadata": {
        "id": "nPxR-TjxEYKo"
      }
    },
    {
      "cell_type": "code",
      "source": [
        "# Creating a list of strings\n",
        "fruits = [\"apple\", \"banana\", \"cherry\", \"apple\", \"banana\"]\n",
        "\n",
        "# Converting the list to a set\n",
        "fruits_set = set(fruits)\n",
        "\n",
        "# Printing the result\n",
        "print(fruits_set)\n"
      ],
      "metadata": {
        "id": "GeAQsW8zEnG5"
      },
      "execution_count": null,
      "outputs": []
    },
    {
      "cell_type": "markdown",
      "source": [
        "Output: {'apple', 'banana', 'cherry'}"
      ],
      "metadata": {
        "id": "sO0MlLHxE2mo"
      }
    }
  ]
}